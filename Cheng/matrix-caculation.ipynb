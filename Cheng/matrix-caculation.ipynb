{
 "metadata": {
  "language_info": {
   "codemirror_mode": {
    "name": "ipython",
    "version": 3
   },
   "file_extension": ".py",
   "mimetype": "text/x-python",
   "name": "python",
   "nbconvert_exporter": "python",
   "pygments_lexer": "ipython3",
   "version": "3.6.12-final"
  },
  "orig_nbformat": 2,
  "kernelspec": {
   "name": "python3",
   "display_name": "Python 3",
   "language": "python"
  }
 },
 "nbformat": 4,
 "nbformat_minor": 2,
 "cells": [
  {
   "cell_type": "code",
   "execution_count": 1,
   "metadata": {},
   "outputs": [],
   "source": [
    "import torch"
   ]
  },
  {
   "source": [
    "标量 y 对向量 x 求导的时候得到的是一个行向量\n",
    "向量 y 对标量 x 求导的时候的到的是一个列向量\n",
    "\n",
    "<img src=\"img/1.png\" width=\"45%\">\n",
    "<img src=\"img/3.png\" width=\"45%\">\n",
    "\n",
    "<img src=\"img/2.png\" width=\"45%\">"
   ],
   "cell_type": "markdown",
   "metadata": {}
  },
  {
   "source": [
    "\n",
    "向量 y 对向量 x 求导, 向量 y 中的每一个值对向量x求导得到一个行列量，每一个值下来构成一个矩阵\n",
    "\n",
    "<img src=\"img/4.png\" width=\"45%\">"
   ],
   "cell_type": "markdown",
   "metadata": {}
  },
  {
   "source": [
    "矩阵A, 向量x \n",
    "- x 对 x 求导， 单位矩阵 I\n",
    "- Ax 对 x 求导， 矩阵 A\n",
    "- $x^T A$ 对 x 求导， 得矩阵 $A^T$\n",
    "\n",
    "第二个表中 Au 对 x 求导时， A 和 x 无关， 可以把 A 拿出来\n",
    "<img src=\"img/5.png\" width=\"64%\">"
   ],
   "cell_type": "markdown",
   "metadata": {}
  },
  {
   "cell_type": "code",
   "execution_count": null,
   "metadata": {},
   "outputs": [],
   "source": []
  }
 ]
}