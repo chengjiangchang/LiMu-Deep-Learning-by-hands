{
 "metadata": {
  "language_info": {
   "codemirror_mode": {
    "name": "ipython",
    "version": 3
   },
   "file_extension": ".py",
   "mimetype": "text/x-python",
   "name": "python",
   "nbconvert_exporter": "python",
   "pygments_lexer": "ipython3",
   "version": "3.8.5-final"
  },
  "orig_nbformat": 2,
  "kernelspec": {
   "name": "python3",
   "display_name": "Python 3.8.5 64-bit ('TF2.1': conda)",
   "metadata": {
    "interpreter": {
     "hash": "1e1537783560f3ade038d61d4c2be427b3a3cbad9d671fb459f8ea7232c53a95"
    }
   }
  }
 },
 "nbformat": 4,
 "nbformat_minor": 2,
 "cells": [
  {
   "cell_type": "code",
   "execution_count": 1,
   "metadata": {},
   "outputs": [],
   "source": [
    "import torch "
   ]
  },
  {
   "source": [
    "L2 Loss 和 L1 Loss 的区别\n",
    "使用L1 Loss能够使得更新的梯度不变，更新非常稳定，当时中间不可导，更新到末期会变得不那么稳定\n",
    "<img src=\"img/13.png\" width=\"45%\"><img src=\"img/14.png\" width=\"45%\">\n",
    "\n",
    "综合L1 L2 Loss的不足， Huber' s Robust Loss\n",
    "\n",
    "<img src=\"img/15.png\" width=\"45%\">\n",
    "\n"
   ],
   "cell_type": "markdown",
   "metadata": {}
  },
  {
   "cell_type": "code",
   "execution_count": null,
   "metadata": {},
   "outputs": [],
   "source": []
  }
 ]
}