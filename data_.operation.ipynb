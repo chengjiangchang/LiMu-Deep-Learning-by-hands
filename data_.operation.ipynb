{
 "metadata": {
  "language_info": {
   "codemirror_mode": {
    "name": "ipython",
    "version": 3
   },
   "file_extension": ".py",
   "mimetype": "text/x-python",
   "name": "python",
   "nbconvert_exporter": "python",
   "pygments_lexer": "ipython3",
   "version": "3.6.12-final"
  },
  "orig_nbformat": 2,
  "kernelspec": {
   "name": "python3",
   "display_name": "Python 3",
   "language": "python"
  }
 },
 "nbformat": 4,
 "nbformat_minor": 2,
 "cells": [
  {
   "cell_type": "code",
   "execution_count": 23,
   "metadata": {},
   "outputs": [],
   "source": [
    "import torch"
   ]
  },
  {
   "cell_type": "code",
   "execution_count": 24,
   "metadata": {},
   "outputs": [
    {
     "output_type": "execute_result",
     "data": {
      "text/plain": [
       "tensor([  0.,   1.,   2.,   3.,   4.,   5.,   6.,   7.,   8.,   9.,\n",
       "         10.,  11.])"
      ]
     },
     "metadata": {},
     "execution_count": 24
    }
   ],
   "source": [
    "x = torch.arange(12)\n",
    "x"
   ]
  },
  {
   "cell_type": "code",
   "execution_count": 25,
   "metadata": {},
   "outputs": [
    {
     "output_type": "execute_result",
     "data": {
      "text/plain": [
       "torch.Size([12])"
      ]
     },
     "metadata": {},
     "execution_count": 25
    }
   ],
   "source": [
    "x.shape"
   ]
  },
  {
   "cell_type": "code",
   "execution_count": 26,
   "metadata": {},
   "outputs": [
    {
     "output_type": "execute_result",
     "data": {
      "text/plain": [
       "12"
      ]
     },
     "metadata": {},
     "execution_count": 26
    }
   ],
   "source": [
    "x.numel()"
   ]
  },
  {
   "cell_type": "code",
   "execution_count": 27,
   "metadata": {},
   "outputs": [
    {
     "output_type": "execute_result",
     "data": {
      "text/plain": [
       "tensor([[  0.,   1.,   2.,   3.],\n",
       "        [  4.,   5.,   6.,   7.],\n",
       "        [  8.,   9.,  10.,  11.]])"
      ]
     },
     "metadata": {},
     "execution_count": 27
    }
   ],
   "source": [
    "X = x.reshape(3, 4)\n",
    "X"
   ]
  },
  {
   "cell_type": "code",
   "execution_count": 28,
   "metadata": {},
   "outputs": [
    {
     "output_type": "execute_result",
     "data": {
      "text/plain": [
       "tensor([[[ 0.,  0.,  0.,  0.],\n",
       "         [ 0.,  0.,  0.,  0.],\n",
       "         [ 0.,  0.,  0.,  0.]],\n",
       "\n",
       "        [[ 0.,  0.,  0.,  0.],\n",
       "         [ 0.,  0.,  0.,  0.],\n",
       "         [ 0.,  0.,  0.,  0.]]])"
      ]
     },
     "metadata": {},
     "execution_count": 28
    }
   ],
   "source": [
    "torch.zeros((2, 3, 4))"
   ]
  },
  {
   "cell_type": "code",
   "execution_count": 29,
   "metadata": {},
   "outputs": [
    {
     "output_type": "execute_result",
     "data": {
      "text/plain": [
       "tensor([[[ 1.,  1.,  1.,  1.],\n",
       "         [ 1.,  1.,  1.,  1.],\n",
       "         [ 1.,  1.,  1.,  1.]],\n",
       "\n",
       "        [[ 1.,  1.,  1.,  1.],\n",
       "         [ 1.,  1.,  1.,  1.],\n",
       "         [ 1.,  1.,  1.,  1.]]])"
      ]
     },
     "metadata": {},
     "execution_count": 29
    }
   ],
   "source": [
    "torch.ones(2, 3, 4)"
   ]
  },
  {
   "cell_type": "code",
   "execution_count": 30,
   "metadata": {},
   "outputs": [
    {
     "output_type": "execute_result",
     "data": {
      "text/plain": [
       "tensor([[ 2,  1,  4,  5],\n",
       "        [ 1,  2,  3,  4]])"
      ]
     },
     "metadata": {},
     "execution_count": 30
    }
   ],
   "source": [
    "torch.tensor([[2, 1, 4, 5], [1, 2, 3, 4]])"
   ]
  },
  {
   "cell_type": "code",
   "execution_count": 31,
   "metadata": {},
   "outputs": [
    {
     "output_type": "execute_result",
     "data": {
      "text/plain": [
       "(tensor([  3.,   4.,   6.,  10.]), tensor([  2.,   4.,   8.,  16.]))"
      ]
     },
     "metadata": {},
     "execution_count": 31
    }
   ],
   "source": [
    "x = torch.tensor([1.0, 2, 4, 8])\n",
    "y = torch.tensor([2.0, 2, 2, 2])\n",
    "x+y, x*y"
   ]
  },
  {
   "cell_type": "code",
   "execution_count": 32,
   "metadata": {},
   "outputs": [
    {
     "output_type": "execute_result",
     "data": {
      "text/plain": [
       "(tensor([[  0.,   1.,   2.,   3.],\n",
       "         [  4.,   5.,   6.,   7.],\n",
       "         [  8.,   9.,  10.,  11.],\n",
       "         [  2.,   1.,   4.,   3.],\n",
       "         [  1.,   2.,   3.,   4.],\n",
       "         [  4.,   3.,   2.,   1.]]),\n",
       " tensor([[  0.,   1.,   2.,   3.,   2.,   1.,   4.,   3.],\n",
       "         [  4.,   5.,   6.,   7.,   1.,   2.,   3.,   4.],\n",
       "         [  8.,   9.,  10.,  11.,   4.,   3.,   2.,   1.]]))"
      ]
     },
     "metadata": {},
     "execution_count": 32
    }
   ],
   "source": [
    "X = torch.arange(12, dtype=torch.float32).reshape((3,4))\n",
    "Y = torch.tensor([[2.0, 1, 4, 3], [1, 2, 3, 4], [4, 3, 2, 1]])\n",
    "torch.cat([X, Y], dim=0), torch.cat([X, Y], dim=1)"
   ]
  },
  {
   "cell_type": "code",
   "execution_count": 33,
   "metadata": {},
   "outputs": [
    {
     "output_type": "execute_result",
     "data": {
      "text/plain": [
       "tensor([[ 0,  1,  0,  1],\n",
       "        [ 0,  0,  0,  0],\n",
       "        [ 0,  0,  0,  0]], dtype=torch.uint8)"
      ]
     },
     "metadata": {},
     "execution_count": 33
    }
   ],
   "source": [
    "# 通过逻辑运算符构建二维张量\n",
    "X == Y"
   ]
  },
  {
   "cell_type": "code",
   "execution_count": 34,
   "metadata": {},
   "outputs": [
    {
     "output_type": "execute_result",
     "data": {
      "text/plain": [
       "tensor(66.)"
      ]
     },
     "metadata": {},
     "execution_count": 34
    }
   ],
   "source": [
    "X.sum()"
   ]
  },
  {
   "cell_type": "code",
   "execution_count": 35,
   "metadata": {},
   "outputs": [
    {
     "output_type": "execute_result",
     "data": {
      "text/plain": [
       "(tensor([[ 0.],\n",
       "         [ 1.],\n",
       "         [ 2.]]),\n",
       " tensor([[ 0.,  1.]]))"
      ]
     },
     "metadata": {},
     "execution_count": 35
    }
   ],
   "source": [
    "a = torch.arange(3).reshape(3, 1)\n",
    "b = torch.arange(2).reshape(1, 2)\n",
    "a, b"
   ]
  },
  {
   "cell_type": "code",
   "execution_count": 36,
   "metadata": {},
   "outputs": [
    {
     "output_type": "execute_result",
     "data": {
      "text/plain": [
       "(torch.Size([3, 1]),\n",
       " torch.Size([1, 2]),\n",
       " tensor([[ 0.,  1.],\n",
       "         [ 1.,  2.],\n",
       "         [ 2.,  3.]]))"
      ]
     },
     "metadata": {},
     "execution_count": 36
    }
   ],
   "source": [
    "# x，y形状不一样，我们可以调用广播机制来执行按元素操作，必须要求两个张量的维度相同\n",
    "a.shape, b.shape, a + b # (3, 2)\n",
    "# (a+b).shape = max(a.shape, b.shape) "
   ]
  },
  {
   "cell_type": "code",
   "execution_count": 37,
   "metadata": {},
   "outputs": [
    {
     "output_type": "execute_result",
     "data": {
      "text/plain": [
       "(tensor([  8.,   9.,  10.,  11.]),\n",
       " tensor([[  4.,   5.,   6.,   7.],\n",
       "         [  8.,   9.,  10.,  11.]]))"
      ]
     },
     "metadata": {},
     "execution_count": 37
    }
   ],
   "source": [
    "X[-1], X[1:3]"
   ]
  },
  {
   "cell_type": "code",
   "execution_count": 38,
   "metadata": {},
   "outputs": [
    {
     "output_type": "execute_result",
     "data": {
      "text/plain": [
       "tensor([[  0.,   1.,   2.,   3.],\n",
       "        [  4.,   5.,   9.,   7.],\n",
       "        [  8.,   9.,  10.,  11.]])"
      ]
     },
     "metadata": {},
     "execution_count": 38
    }
   ],
   "source": [
    "# 指定索引来将元素写入矩阵\n",
    "X[1, 2] = 9\n",
    "X"
   ]
  },
  {
   "cell_type": "code",
   "execution_count": 39,
   "metadata": {},
   "outputs": [
    {
     "output_type": "execute_result",
     "data": {
      "text/plain": [
       "tensor([[ 12.,  12.,  12.,  12.],\n",
       "        [ 12.,  12.,  12.,  12.],\n",
       "        [  8.,   9.,  10.,  11.]])"
      ]
     },
     "metadata": {},
     "execution_count": 39
    }
   ],
   "source": [
    "X[0:2, :]=12\n",
    "X"
   ]
  },
  {
   "cell_type": "code",
   "execution_count": 40,
   "metadata": {},
   "outputs": [
    {
     "output_type": "execute_result",
     "data": {
      "text/plain": [
       "False"
      ]
     },
     "metadata": {},
     "execution_count": 40
    }
   ],
   "source": [
    "before = id(Y) # object Y 在python中唯一的标识号\n",
    "Y = Y + X\n",
    "id(Y) == before # 新的Y的id不等于之前Y的id"
   ]
  },
  {
   "cell_type": "code",
   "execution_count": 41,
   "metadata": {},
   "outputs": [
    {
     "output_type": "stream",
     "name": "stdout",
     "text": [
      "id(Z) 2069209967496\nid(Z) 2069209967496\n"
     ]
    }
   ],
   "source": [
    "# 使用torch.zeros_like进行原地造作，对Z操作之后Z的id并没有改变\n",
    "Z = torch.zeros_like(Y)\n",
    "print('id(Z)', id(Z))\n",
    "Z[:] = X + Y\n",
    "print('id(Z)', id(Z))"
   ]
  },
  {
   "cell_type": "code",
   "execution_count": 42,
   "metadata": {},
   "outputs": [
    {
     "output_type": "execute_result",
     "data": {
      "text/plain": [
       "True"
      ]
     },
     "metadata": {},
     "execution_count": 42
    }
   ],
   "source": [
    "before = id(X)\n",
    "X += Y # += 也能进行原地操作\n",
    "id(X) == before"
   ]
  },
  {
   "cell_type": "code",
   "execution_count": 45,
   "metadata": {},
   "outputs": [
    {
     "output_type": "execute_result",
     "data": {
      "text/plain": [
       "(tensor([ 2.,  2.,  2.,  2.,  2.,  2.,  2.,  2.,  2.,  2.,  2.,  2.]),\n",
       " tensor([[ 2.,  2.,  2.,  2.],\n",
       "         [ 2.,  2.,  2.,  2.],\n",
       "         [ 2.,  2.,  2.,  2.]]))"
      ]
     },
     "metadata": {},
     "execution_count": 45
    }
   ],
   "source": [
    "a = torch.arange(12)\n",
    "b = a.reshape((3,4))\n",
    "b[:] = 2\n",
    "a, b\n",
    "# 使用reshape时把b改掉，a也改掉了，所以尽量不要修改"
   ]
  },
  {
   "cell_type": "code",
   "execution_count": 56,
   "metadata": {},
   "outputs": [
    {
     "output_type": "execute_result",
     "data": {
      "text/plain": [
       "(array([6, 6, 6], dtype=int64), array([18], dtype=int64))"
      ]
     },
     "metadata": {},
     "execution_count": 56
    }
   ],
   "source": [
    "a = torch.tensor([2, 2, 2])\n",
    "b = torch.tensor([3, 3, 3])\n",
    "a = a.numpy()\n",
    "b = b.numpy()\n",
    "# * 一定是按元素逐个运算，四则运算都是，用*无法实现 a.T b @才是乘法\n",
    "a * b, a.reshape((3, 1)).T @ b"
   ]
  },
  {
   "cell_type": "code",
   "execution_count": null,
   "metadata": {},
   "outputs": [],
   "source": []
  },
  {
   "cell_type": "code",
   "execution_count": null,
   "metadata": {},
   "outputs": [],
   "source": []
  }
 ]
}